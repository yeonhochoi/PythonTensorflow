{
 "cells": [
  {
   "cell_type": "code",
   "execution_count": 1,
   "metadata": {
    "collapsed": true
   },
   "outputs": [],
   "source": [
    "#텐서 다루기"
   ]
  },
  {
   "cell_type": "code",
   "execution_count": 3,
   "metadata": {
    "collapsed": true
   },
   "outputs": [],
   "source": [
    "#1.라이브러리를 불러온다\n",
    "import tensorflow as tf\n",
    "import numpy as np"
   ]
  },
  {
   "cell_type": "code",
   "execution_count": 4,
   "metadata": {
    "collapsed": true
   },
   "outputs": [],
   "source": [
    "#2. 3X3 행렬을 표현하기 위해 두 개의 정수 배열을 만든다.\n",
    "matrix1 =np.array([(2,2,2),(2,2,2),(2,2,2)],dtype='int32')\n",
    "matrix2 =np.array([(1,1,1),(1,1,1),(1,1,1)],dtype='int32')"
   ]
  },
  {
   "cell_type": "code",
   "execution_count": 5,
   "metadata": {},
   "outputs": [
    {
     "name": "stdout",
     "output_type": "stream",
     "text": [
      "matrix1=\n",
      "[[2 2 2]\n",
      " [2 2 2]\n",
      " [2 2 2]]\n",
      "matrix2\n",
      "[[1 1 1]\n",
      " [1 1 1]\n",
      " [1 1 1]]\n"
     ]
    }
   ],
   "source": [
    "#배열을 출력하는 명령어를 작성한다.\n",
    "print \"matrix1=\"\n",
    "print matrix1\n",
    "print \"matrix2\"\n",
    "print matrix2"
   ]
  },
  {
   "cell_type": "code",
   "execution_count": 6,
   "metadata": {
    "collapsed": true
   },
   "outputs": [],
   "source": [
    "#4.텐서플로 환경에서 위 배열을 사용하기 위해 텐서 자료 구조로 변환한다.\n",
    "matrix1 = tf.constant(matrix1)\n",
    "matrix2 = tf.constant(matrix2)\n"
   ]
  },
  {
   "cell_type": "code",
   "execution_count": 8,
   "metadata": {},
   "outputs": [
    {
     "name": "stdout",
     "output_type": "stream",
     "text": [
      "matrix3 =\n",
      "[[ 2.  7.  2.]\n",
      " [ 1.  4.  2.]\n",
      " [ 9.  0.  2.]]\n"
     ]
    }
   ],
   "source": [
    "#5.텐서플로 constant 명령어를 이용해 자료 구조를 변환할 수 있다.\n",
    "#6. 배열이 텐서플로가 인식할 수 있는 자료 구조로 변환됐다. 이제 행렬 곱과 행렬 합을 계산하자.\n",
    "matrix_product =tf.matmul(matrix1,matrix2)\n",
    "matrix_sum = tf.add(matrix1,matrix2)\n",
    "\n",
    "#7.다음의 연산은 행렬의 행렬식을 구한다.\n",
    "matrix3 =np.array([(2,7,2),(1,4,2),(9,0,2)],dtype='float32')\n",
    "print \"matrix3 =\"\n",
    "print matrix3\n",
    "\n",
    "matrix_det=tf.matrix_determinant(matrix3)"
   ]
  },
  {
   "cell_type": "code",
   "execution_count": 9,
   "metadata": {
    "collapsed": true
   },
   "outputs": [],
   "source": [
    "#세션을 열고 앞서 작성한 그래프를 연산한다.\n",
    "with tf.Session() as sess:\n",
    "    result1 =sess.run(matrix_product)\n",
    "    result2 = sess.run(matrix_sum)\n",
    "    result3 = sess.run(matrix_det)"
   ]
  },
  {
   "cell_type": "code",
   "execution_count": 10,
   "metadata": {},
   "outputs": [
    {
     "name": "stdout",
     "output_type": "stream",
     "text": [
      "matrix1 * matrix2=\n",
      "[[6 6 6]\n",
      " [6 6 6]\n",
      " [6 6 6]]\n",
      "matrix1 + matrix2 =\n",
      "[[3 3 3]\n",
      " [3 3 3]\n",
      " [3 3 3]]\n",
      "matrix3 determinant result=\n",
      "56.0\n"
     ]
    }
   ],
   "source": [
    "#연산결과를 출력한다.\n",
    "print \"matrix1 * matrix2=\"\n",
    "print result1\n",
    "\n",
    "print \"matrix1 + matrix2 =\"\n",
    "print result2\n",
    "\n",
    "print \"matrix3 determinant result=\"\n",
    "print result3"
   ]
  },
  {
   "cell_type": "code",
   "execution_count": null,
   "metadata": {
    "collapsed": true
   },
   "outputs": [],
   "source": []
  }
 ],
 "metadata": {
  "kernelspec": {
   "display_name": "Python 2",
   "language": "python",
   "name": "python2"
  },
  "language_info": {
   "codemirror_mode": {
    "name": "ipython",
    "version": 2
   },
   "file_extension": ".py",
   "mimetype": "text/x-python",
   "name": "python",
   "nbconvert_exporter": "python",
   "pygments_lexer": "ipython2",
   "version": "2.7.12+"
  }
 },
 "nbformat": 4,
 "nbformat_minor": 2
}
